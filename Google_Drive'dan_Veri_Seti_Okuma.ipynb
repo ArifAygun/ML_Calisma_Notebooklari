{
  "nbformat": 4,
  "nbformat_minor": 0,
  "metadata": {
    "colab": {
      "provenance": [],
      "authorship_tag": "ABX9TyPYYIuq+/FrMgLwfYFKiPy+",
      "include_colab_link": true
    },
    "kernelspec": {
      "name": "python3",
      "display_name": "Python 3"
    },
    "language_info": {
      "name": "python"
    }
  },
  "cells": [
    {
      "cell_type": "markdown",
      "metadata": {
        "id": "view-in-github",
        "colab_type": "text"
      },
      "source": [
        "<a href=\"https://colab.research.google.com/github/ArifAygun/ML_Calisma_Notebooklari/blob/main/Google_Drive'dan_Veri_Seti_Okuma.ipynb\" target=\"_parent\"><img src=\"https://colab.research.google.com/assets/colab-badge.svg\" alt=\"Open In Colab\"/></a>"
      ]
    },
    {
      "cell_type": "code",
      "execution_count": 15,
      "metadata": {
        "colab": {
          "base_uri": "https://localhost:8080/"
        },
        "id": "A-dR5IYe2ydX",
        "outputId": "2bdc7206-59f5-4faa-a4a2-3619315989d1"
      },
      "outputs": [
        {
          "output_type": "stream",
          "name": "stdout",
          "text": [
            "Mounted at /content/drive\n"
          ]
        }
      ],
      "source": [
        "from google.colab import drive\n",
        "drive.mount('/content/drive')"
      ]
    },
    {
      "cell_type": "code",
      "source": [
        "import pandas as pd\n",
        "\n",
        "# Veri setini oku\n",
        "data = pd.read_csv('/content/drive/MyDrive/Colab Datasets/adult.csv')\n",
        "\n",
        "# Veri setini kullan"
      ],
      "metadata": {
        "id": "eaVQdNE37DCG"
      },
      "execution_count": 17,
      "outputs": []
    },
    {
      "cell_type": "code",
      "source": [
        "data"
      ],
      "metadata": {
        "id": "ZfLJgsgP7aRl"
      },
      "execution_count": null,
      "outputs": []
    }
  ]
}